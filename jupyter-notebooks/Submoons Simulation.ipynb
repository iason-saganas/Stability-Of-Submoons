{
 "cells": [
  {
   "cell_type": "markdown",
   "id": "cbe0d48d-7cee-49d0-8bc8-87a961d159c0",
   "metadata": {},
   "source": [
    "# Important Information"
   ]
  },
  {
   "cell_type": "code",
   "execution_count": null,
   "id": "46ba5899-69c3-4856-8978-bba902d1aba4",
   "metadata": {},
   "outputs": [],
   "source": [
    "# This lab notebook simulates the tidal migration of a submoon orbiting a moon, orbiting a planet, orbiting a star.\n",
    "# The results are recorded as the lifetime of the submoon and saved with the given parameters.\n",
    "# Parameters below in base SI units, with k2 and Q from Murray-Dermott, densities from Pogge lecture:\n",
    "\n",
    "# Star, planet, moon, submoon\n",
    "k2_max = [0.3,0.3,0.3,0.3]\n",
    "k2_min = [0,0,0,0]\n",
    "Q_max = [100,100,100,100]\n",
    "Q_min = [0,0,0,0]\n",
    "alpha_max = [0.4,0.4,0.4,0.4]\n",
    "alpha_min = [0,0,0,0]\n",
    "m_max = [20*1.9885*(10**30),1.9885*(10**30)*0.075,1.9885*(10**30)*0.075,1.9885*(10**30)*0.075]\n",
    "m_min = [1.9885*(10**30)*0.075,0,0,0]\n",
    "p_max = [100,17,17,17]\n",
    "p_min = [(10**-9),0.5,0.5,0.5]\n",
    "\n",
    "# maximum rate of change of rotational speed per timestep\n",
    "dOdt_target = 2*(10**-5)\n",
    "\n",
    "# maximum rate of change of semi-major axis per timestep\n",
    "dadt_target = 1\n",
    "\n",
    "# gravitational constant\n",
    "G = 6.6743015 * (10**-11)"
   ]
  },
  {
   "cell_type": "markdown",
   "id": "aec648b1-d372-4c68-97d0-24c4cbb08619",
   "metadata": {},
   "source": [
    "# Import Libraries"
   ]
  },
  {
   "cell_type": "code",
   "execution_count": null,
   "id": "bae95559-f28a-49e1-9d2e-fa5b62d68682",
   "metadata": {},
   "outputs": [],
   "source": [
    "import numpy as np\n",
    "import random as r\n",
    "import pandas as pd\n",
    "import os.path as path\n",
    "import time"
   ]
  },
  {
   "cell_type": "markdown",
   "id": "78d6bf2a-c9aa-4285-8350-f7664806d25b",
   "metadata": {},
   "source": [
    "# Define Basic Functions"
   ]
  },
  {
   "cell_type": "code",
   "execution_count": null,
   "id": "7b26ace3-08eb-43fa-87b5-3c010c6ce8cc",
   "metadata": {},
   "outputs": [],
   "source": [
    "# find orbital speed in radians from semi-major axis\n",
    "def n(a,mp,ms,ns):\n",
    "    return ns*np.sqrt(G*(mp+ms)/(a**3))"
   ]
  },
  {
   "cell_type": "code",
   "execution_count": null,
   "id": "f95b71ee-a371-451f-ab5f-2a82d67f9479",
   "metadata": {},
   "outputs": [],
   "source": [
    "# find semi-major axis from orbital speed in radians\n",
    "def semimajor(n,mp,ms):\n",
    "    return (G*(mp+ms)/(n**2))**(1/3)"
   ]
  },
  {
   "cell_type": "code",
   "execution_count": null,
   "id": "d5050083-1ab1-4105-beb2-ad741fe7697d",
   "metadata": {},
   "outputs": [],
   "source": [
    "# find the hill radius\n",
    "def RH(a,mp,ms):\n",
    "    return a*((ms/(3*mp))**(1/3))"
   ]
  },
  {
   "cell_type": "code",
   "execution_count": null,
   "id": "a013a673-7588-4921-b208-0697872b21c2",
   "metadata": {},
   "outputs": [],
   "source": [
    "# find the hill radius factor for greatest influence\n",
    "def f(Op,ns):\n",
    "    return Op/np.abs(Op)*ns*0.07 + 0.43"
   ]
  },
  {
   "cell_type": "code",
   "execution_count": null,
   "id": "5ae3a6ec-30db-4e2e-979b-2af800a805a8",
   "metadata": {},
   "outputs": [],
   "source": [
    "# find constant for change in semi-major axis over time\n",
    "def b(k,ms,mp,Cp,a):\n",
    "    return (3*k*ms*((Cp/a)**5)*a)/mp"
   ]
  },
  {
   "cell_type": "code",
   "execution_count": null,
   "id": "d3e93d83-fd5c-4b22-9b7f-12f9d06ce620",
   "metadata": {},
   "outputs": [],
   "source": [
    "# find constant for change in rotational speed over time\n",
    "def d(k,alpha,ms,mp,Cp,a):\n",
    "    return ((3*k*(ms**2))*((Cp/a)**3)*(n(a,mp,ms,1)**2))/(alpha*(mp*(mp + ms)))"
   ]
  },
  {
   "cell_type": "code",
   "execution_count": null,
   "id": "eb61c55d-48be-47b0-988f-55b69a2eb75d",
   "metadata": {},
   "outputs": [],
   "source": [
    "# find the total satellite mass for an orbit\n",
    "def satMass(i):\n",
    "    mVal = 0\n",
    "    for j in range(i+1,4):\n",
    "        mVal=mVal+m[j]\n",
    "    return mVal"
   ]
  },
  {
   "cell_type": "code",
   "execution_count": null,
   "id": "0f9a6616-5af6-4708-ab22-a6da8f380913",
   "metadata": {},
   "outputs": [],
   "source": [
    "# find change in semi-major axis over time for any index\n",
    "def dadt(i):\n",
    "    nVal = n(a[i],m[i],satMass(i),ns[i])\n",
    "    if i==0:\n",
    "        return nVal*((O[i]-nVal)*b(k[i],satMass(i),m[i],C[i],a[i])+(O[i+1]-nVal)*b(k[i+1],m[i],m[i+1],C[i+1],a[i]))\n",
    "    return nVal*((O[i]-nVal)*b(k[i],satMass(i),m[i],C[i],a[i])+(O[i+1]-nVal)*b(k[i+1],m[i],m[i+1],C[i+1],a[i]))+2*unbalL(i-1)*((m[i]+satMass(i))/(m[i]*satMass(i)))/(a[i]*nVal)*(O[i]-n(a[i-1],m[i],m[i-1],ns[i-1]))"
   ]
  },
  {
   "cell_type": "code",
   "execution_count": null,
   "id": "f8a20a70-7117-4924-8bbc-84fd5c0a30cc",
   "metadata": {},
   "outputs": [],
   "source": [
    "# find change in rotational speed for any index\n",
    "def dOdt(i):\n",
    "    sum = 0\n",
    "    if i<3:\n",
    "        sum=sum-(O[i]-n(a[i],m[i],satMass(i),ns[i]))*d(k[i],alpha[i],satMass(i),m[i],C[i],a[i])\n",
    "    if i>0:\n",
    "        sum=sum-(O[i]-n(a[i-1],m[i],m[i-1],ns[i-1]))*d(k[i],alpha[i],m[i-1],m[i],C[i],a[i-1])\n",
    "    return sum"
   ]
  },
  {
   "cell_type": "code",
   "execution_count": null,
   "id": "ec408dc1-39fe-4b0f-8a1d-7835fc014baa",
   "metadata": {},
   "outputs": [],
   "source": [
    "# find unbalanced angular momentum term\n",
    "def unbalL(i):\n",
    "    return 1.5*k[i+1]*((C[i+1]/a[i])**5)*(n(a[i],m[i],satMass(i),ns[i])**2)*(a[i]**2)*(m[i]**2)*((1/(m[i]+m[i+1]))-(satMass(i)/(m[i+1]*(m[i]+satMass(i)))))"
   ]
  },
  {
   "cell_type": "markdown",
   "id": "67aef8e9-4860-479e-b49c-92f1eed71413",
   "metadata": {},
   "source": [
    "# Define Functions for Evolving Timescale"
   ]
  },
  {
   "cell_type": "code",
   "execution_count": null,
   "id": "0b6e5a43-8523-4ae9-9f2d-afab2f79646b",
   "metadata": {},
   "outputs": [],
   "source": [
    "# initialize constants\n",
    "O = [0,0,0,0]\n",
    "O_init = [0,0,0,0]\n",
    "a = [0,0,0]\n",
    "a_init = [0,0,0]\n",
    "\n",
    "ns = [0,0,0]\n",
    "n_init = [0,0,0]\n",
    "m = [0,0,0,0]\n",
    "k = [0,0,0,0]\n",
    "alpha = [0,0,0,0]\n",
    "C = [0,0,0,0]"
   ]
  },
  {
   "cell_type": "code",
   "execution_count": null,
   "id": "1f614270-2d96-45e7-8f28-8e7c75f7a5b0",
   "metadata": {},
   "outputs": [],
   "source": [
    "# Randomize parameter space\n",
    "def randomize():\n",
    "    found = False\n",
    "    while(found==False):\n",
    "        for i in range(0,4):\n",
    "            m[i]=m_min[i]+r.random()*(m_max[i]-m_min[i])\n",
    "            p=p_min[i]+r.random()*(p_max[i]-p_min[i])\n",
    "            C[i]=(3*m[i]/(4*np.pi*p))**(1/3)\n",
    "            O[i]=0.2*(r.random()-0.5)*n(C[i],m[i],0,1)\n",
    "            O_init[i]=O[i]\n",
    "            alpha[i]=alpha_min[i]+r.random()*(alpha_max[i]-alpha_min[i])\n",
    "        for i in range(0,3):\n",
    "            nVal=0\n",
    "            nSign=1\n",
    "            if r.random()>0.5:\n",
    "                nSign=-1\n",
    "            if i==0:\n",
    "                nVal=n(C[i]+r.random()*(1.975*(10**13)-C[i]),m[i],satMass(i),nSign)\n",
    "            else:\n",
    "                nVal=n(C[i]+r.random()*(RH(a[i-1],m[i-1],m[i])-C[i])*f(O[i],nSign),m[i],satMass(i),nSign)\n",
    "            a[i]=semimajor(nVal,m[i],satMass(i))\n",
    "            ns[i]=nSign\n",
    "            a_init[i]=a[i]\n",
    "            n_init[i]=nVal\n",
    "        for i in range(0,4):\n",
    "            Q=Q_min[i]+r.random()*(Q_max[i]-Q_min[i])\n",
    "            k2=k2_min[i]+r.random()*(k2_max[i]-k2_min[i])\n",
    "            if i<3:\n",
    "                k[i]=k[i]+k2/(Q*np.abs(O_init[i]-n_init[i]))\n",
    "            if i>0:\n",
    "                k[i]=k[i]+k2/(Q*np.abs(O_init[i]-n_init[i-1]))\n",
    "            if i>0 & i<3:\n",
    "                k[i]=k[i]/2\n",
    "        # Cull impossible scenarios\n",
    "        found = True\n",
    "        for i in range(0,3):\n",
    "            if satMass(i)>m[i] or C[i]>a[i]:\n",
    "                found = False"
   ]
  },
  {
   "cell_type": "code",
   "execution_count": null,
   "id": "f680eb55-c273-4841-b463-e8c40a6e8f7c",
   "metadata": {},
   "outputs": [],
   "source": [
    "# set timestep to 1y, set maximum timestep to 10Gy, the timestep ceiling to 100ky, and the timestep floor to 1y\n",
    "timestep = 1*60*60*24*365.24\n",
    "timestepceil = 100000*60*60*24*365.24\n",
    "timestepfloor = 1*60*60*24*365.24\n",
    "maxTimeStep = 1*60*60*24*365.24*(10**9)\n",
    "\n",
    "# set a time limit for calculation\n",
    "timeLimit = 10\n",
    "\n",
    "# tick through each timestep, return lifetime or system, return -1 if time limit reached\n",
    "def lifetime(timestep):\n",
    "    life = 0\n",
    "    startTime = time.time()\n",
    "    while(life<maxTimeStep):\n",
    "        if time.time()>startTime+timeLimit:\n",
    "            return -1\n",
    "        maxdOdt = 0\n",
    "        maxdadt = 0\n",
    "        for i in range(0,4):\n",
    "            change = dOdt(i)\n",
    "            O[i]=O[i]+change*timestep\n",
    "            if np.abs(change)>maxdOdt:\n",
    "                maxdOdt = np.abs(change)\n",
    "        for i in range(0,3):\n",
    "            change = dadt(i)\n",
    "            a[i]=a[i]+change*timestep\n",
    "            if np.abs(change)>maxdadt:\n",
    "                maxdadt = np.abs(change)\n",
    "        # check for escapes\n",
    "        for i in range(1,3):\n",
    "            if RH(a[i-1],m[i-1],m[i])*f(O[i],ns[i])<a[i]:\n",
    "                return life\n",
    "        # check for Roche Limit encroaches\n",
    "        for i in range(1,4):\n",
    "            if RH(a[i-1],m[i-1],m[i])<C[i]:\n",
    "                return life\n",
    "        # check for object crashes\n",
    "        for i in range(0,3):\n",
    "            if a[i]<C[i]:\n",
    "                return life\n",
    "        # check for odd orbital overlaps\n",
    "        if a[1]>a[0]+C[0] or a[2]>a[1]+C[1] or a[0]<a[1]+a[2]+C[0]:\n",
    "            return life\n",
    "        # add lifetime\n",
    "        life=life+timestep\n",
    "        # adjust timestep based on change, WIP\n",
    "        timestep=np.maximum(np.minimum(timestep*np.minimum(dOdt_target/maxdOdt,dadt_target/maxdadt),timestepceil),timestepfloor)\n",
    "    return maxTimeStep"
   ]
  },
  {
   "cell_type": "code",
   "execution_count": null,
   "id": "3245fe8c-a3e8-480e-901b-29df4208b3d0",
   "metadata": {},
   "outputs": [],
   "source": [
    "# enumerate strings for .csv appending\n",
    "def csvHeader():\n",
    "    theString = \"\"\n",
    "    for i in range(0,4):\n",
    "        theString=theString+\"k_\"+str(i)+\",\"\n",
    "        theString=theString+\"O_init_\"+str(i)+\",\"\n",
    "        theString=theString+\"m_\"+str(i)+\",\"\n",
    "        theString=theString+\"alpha_\"+str(i)+\",\"\n",
    "        theString=theString+\"C_\"+str(i)+\",\"\n",
    "    for i in range(0,3):\n",
    "        theString=theString+\"a_init_\"+str(i)+\",\"\n",
    "        theString=theString+\"n_init_\"+str(i)+\",\"\n",
    "    theString=theString+\"Lifetime (y)\\n\"\n",
    "    return theString\n",
    "def csvString(life):\n",
    "    theString = \"\"\n",
    "    for i in range(0,4):\n",
    "        theString=theString+str(k[i])+\",\"\n",
    "        theString=theString+str(O_init[i])+\",\"\n",
    "        theString=theString+str(m[i])+\",\"\n",
    "        theString=theString+str(alpha[i])+\",\"\n",
    "        theString=theString+str(C[i])+\",\"\n",
    "    for i in range(0,3):\n",
    "        theString=theString+str(a_init[i])+\",\"\n",
    "        theString=theString+str(n_init[i])+\",\"\n",
    "    theString=theString+str(life/(365.24*24*60*60))+\"\\n\"\n",
    "    return theString"
   ]
  },
  {
   "cell_type": "code",
   "execution_count": null,
   "id": "81f4468d-9059-4c1a-b09b-db3dd2332092",
   "metadata": {},
   "outputs": [],
   "source": [
    "# solve for and save many random points\n",
    "numPoints = 100*60*24*3\n",
    "t = time.localtime()\n",
    "fileName = \"numerical out - \" + str(t[0]) + \"-\" + str(t[1]) + \"-\" + str(t[2]) + \"-\" + str(t[3]) + \"-\" + str(t[4]) + \"-\" + str(t[5]) + \".csv\"\n",
    "file = open(fileName, \"w\")\n",
    "file.write(csvHeader())\n",
    "startTime = time.time()\n",
    "for i in range(0, numPoints):\n",
    "    randomize()\n",
    "    life = lifetime(timestep)\n",
    "    file.write(csvString(life))\n",
    "    if life>0:\n",
    "        print(str(life/(365.24*24*60*60)) + \" years\")\n",
    "    file.flush()\n",
    "file.close()\n",
    "print(\"Time taken for \" + str(numPoints) + \" data points: \" + str(time.time()-startTime) + \"s, averaging \" + str((time.time()-startTime)/numPoints) + \"s per data point.\")"
   ]
  }
 ],
 "metadata": {
  "kernelspec": {
   "display_name": "Python 3 (ipykernel)",
   "language": "python",
   "name": "python3"
  },
  "language_info": {
   "codemirror_mode": {
    "name": "ipython",
    "version": 3
   },
   "file_extension": ".py",
   "mimetype": "text/x-python",
   "name": "python",
   "nbconvert_exporter": "python",
   "pygments_lexer": "ipython3",
   "version": "3.9.13"
  }
 },
 "nbformat": 4,
 "nbformat_minor": 5
}
