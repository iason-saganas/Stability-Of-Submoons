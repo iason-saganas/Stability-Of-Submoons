{
 "cells": [
  {
   "cell_type": "code",
   "execution_count": 8,
   "id": "initial_id",
   "metadata": {
    "collapsed": true,
    "ExecuteTime": {
     "end_time": "2023-12-29T17:31:07.519002Z",
     "start_time": "2023-12-29T17:31:07.508049Z"
    }
   },
   "outputs": [],
   "source": [
    "import sympy as sym\n",
    "from IPython.display import display, Math\n",
    "\n",
    "# Application of Kepler's third law to the left hand side of the Euler-Lagrange-Equation for the orbit frequency variable\n",
    "\n",
    "m_i = sym.symbols(r\"m_{\\mathrm{i}}\")\n",
    "m_j = sym.symbols(r\"m_{\\mathrm{j}}\")\n",
    "G = sym.symbols(r\"\\mathrm{G}\")\n",
    "t = sym.symbols(\"t\")\n",
    "a_i_j = sym.Function(r\"a_{\\mathrm{i-j}}\")(t)\n",
    "mu_i_j = sym.symbols(r\"\\mu_{\\mathrm{i-j}}\") # standard gravitational parameter\n",
    "n_i_j = sym.Function(r\"n_{\\mathrm{i-j}}\")(t) # standard gravitational parameter"
   ]
  },
  {
   "cell_type": "code",
   "execution_count": 9,
   "outputs": [
    {
     "name": "stdout",
     "output_type": "stream",
     "text": [
      "Expression to simplify: \n"
     ]
    },
    {
     "data": {
      "text/plain": "m_{\\mathrm{i}}*(a_{\\mathrm{i-j}}(t)**2*Derivative(n_{\\mathrm{i-j}}(t), t) + 2*a_{\\mathrm{i-j}}(t)*n_{\\mathrm{i-j}}(t)*Derivative(a_{\\mathrm{i-j}}(t), t))",
      "text/latex": "$\\displaystyle m_{\\mathrm{i}} \\left(a_{\\mathrm{i-j}}^{2}{\\left(t \\right)} \\frac{d}{d t} n_{\\mathrm{i-j}}{\\left(t \\right)} + 2 a_{\\mathrm{i-j}}{\\left(t \\right)} n_{\\mathrm{i-j}}{\\left(t \\right)} \\frac{d}{d t} a_{\\mathrm{i-j}}{\\left(t \\right)}\\right)$"
     },
     "execution_count": 9,
     "metadata": {},
     "output_type": "execute_result"
    }
   ],
   "source": [
    "expression = m_i *(2*n_i_j*a_i_j*sym.diff(a_i_j,t)+a_i_j**2*sym.diff(n_i_j, t))\n",
    "print(\"Expression to simplify: \")\n",
    "expression"
   ],
   "metadata": {
    "collapsed": false,
    "ExecuteTime": {
     "end_time": "2023-12-29T17:31:08.005991Z",
     "start_time": "2023-12-29T17:31:07.990423Z"
    }
   },
   "id": "67de20f41b36723f"
  },
  {
   "cell_type": "code",
   "execution_count": 10,
   "outputs": [
    {
     "name": "stdout",
     "output_type": "stream",
     "text": [
      "Expression after Kepler's third law is applied:\n"
     ]
    },
    {
     "data": {
      "text/plain": "sqrt(\\mu_{\\mathrm{i-j}})*m_{\\mathrm{i}}*Derivative(a_{\\mathrm{i-j}}(t), t)/(2*sqrt(a_{\\mathrm{i-j}}(t)))",
      "text/latex": "$\\displaystyle \\frac{\\sqrt{\\mu_{\\mathrm{i-j}}} m_{\\mathrm{i}} \\frac{d}{d t} a_{\\mathrm{i-j}}{\\left(t \\right)}}{2 \\sqrt{a_{\\mathrm{i-j}}{\\left(t \\right)}}}$"
     },
     "execution_count": 10,
     "metadata": {},
     "output_type": "execute_result"
    }
   ],
   "source": [
    "# apply Kepler's law \n",
    "n_i_j = mu_i_j**sym.Rational(1,2) * a_i_j**sym.Rational(-3,2) # kepler's third law\n",
    "expression_with_kepler_applied = m_i *(2*n_i_j*a_i_j*sym.diff(a_i_j,t)+a_i_j**2*sym.diff(n_i_j, t))\n",
    "print(\"Expression after Kepler's third law is applied:\")\n",
    "expression_with_kepler_applied"
   ],
   "metadata": {
    "collapsed": false,
    "ExecuteTime": {
     "end_time": "2023-12-29T17:31:09.890310Z",
     "start_time": "2023-12-29T17:31:09.834303Z"
    }
   },
   "id": "e6b88b53d7abdcb6"
  },
  {
   "cell_type": "code",
   "execution_count": null,
   "outputs": [],
   "source": [],
   "metadata": {
    "collapsed": false
   },
   "id": "b0912c9471761ef7"
  }
 ],
 "metadata": {
  "kernelspec": {
   "display_name": "Python 3",
   "language": "python",
   "name": "python3"
  },
  "language_info": {
   "codemirror_mode": {
    "name": "ipython",
    "version": 2
   },
   "file_extension": ".py",
   "mimetype": "text/x-python",
   "name": "python",
   "nbconvert_exporter": "python",
   "pygments_lexer": "ipython2",
   "version": "2.7.6"
  }
 },
 "nbformat": 4,
 "nbformat_minor": 5
}
