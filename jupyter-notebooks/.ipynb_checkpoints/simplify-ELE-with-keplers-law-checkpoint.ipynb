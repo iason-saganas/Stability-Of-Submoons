{
 "cells": [
  {
   "cell_type": "code",
   "execution_count": 17,
   "id": "initial_id",
   "metadata": {
    "collapsed": true,
    "ExecuteTime": {
     "end_time": "2023-12-29T17:25:33.503849Z",
     "start_time": "2023-12-29T17:25:33.487572Z"
    }
   },
   "outputs": [],
   "source": [
    "import sympy as sym\n",
    "from IPython.display import display, Math\n",
    "\n",
    "# Application of Kepler's third law to the left hand side of the Euler-Lagrange-Equation for the orbit frequency variable\n",
    "\n",
    "m_i = sym.symbols(r\"m_{\\mathrm{i}}\")\n",
    "m_j = sym.symbols(r\"m_{\\mathrm{j}}\")\n",
    "G = sym.symbols(r\"\\mathrm{G}\")\n",
    "t = sym.symbols(\"t\")\n",
    "a_i_j = sym.Function(r\"a_{\\mathrm{i-j}}\")(t)\n",
    "mu = sym.symbols(\"mu\") # standard gravitational parameter\n",
    "n_i_j = sym.symbols(r\"n_{\\mathrm{i-j}}\") # standard gravitational parameter"
   ]
  },
  {
   "cell_type": "code",
   "execution_count": 18,
   "outputs": [
    {
     "data": {
      "text/plain": "2*m_{\\mathrm{i}}*n_{\\mathrm{i-j}}*a_{\\mathrm{i-j}}(t)*Derivative(a_{\\mathrm{i-j}}(t), t)",
      "text/latex": "$\\displaystyle 2 m_{\\mathrm{i}} n_{\\mathrm{i-j}} a_{\\mathrm{i-j}}{\\left(t \\right)} \\frac{d}{d t} a_{\\mathrm{i-j}}{\\left(t \\right)}$"
     },
     "execution_count": 18,
     "metadata": {},
     "output_type": "execute_result"
    }
   ],
   "source": [
    "expression = m_i *(2*n_i_j*a_i_j*sym.diff(a_i_j,t)+a_i_j**2*sym.diff(n_i_j, t))\n",
    "expression"
   ],
   "metadata": {
    "collapsed": false,
    "ExecuteTime": {
     "end_time": "2023-12-29T17:25:34.030260Z",
     "start_time": "2023-12-29T17:25:34.013630Z"
    }
   },
   "id": "67de20f41b36723f"
  }
 ],
 "metadata": {
  "kernelspec": {
   "display_name": "Python 3",
   "language": "python",
   "name": "python3"
  },
  "language_info": {
   "codemirror_mode": {
    "name": "ipython",
    "version": 2
   },
   "file_extension": ".py",
   "mimetype": "text/x-python",
   "name": "python",
   "nbconvert_exporter": "python",
   "pygments_lexer": "ipython2",
   "version": "2.7.6"
  }
 },
 "nbformat": 4,
 "nbformat_minor": 5
}
