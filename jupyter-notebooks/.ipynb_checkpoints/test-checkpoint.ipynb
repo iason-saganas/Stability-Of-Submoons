{
 "cells": [
  {
   "cell_type": "code",
   "execution_count": null,
   "id": "initial_id",
   "metadata": {
    "collapsed": true
   },
   "outputs": [],
   "source": [
    "import sympy as sym \n",
    "from IPython.display import display, Math"
   ]
  },
  {
   "cell_type": "code",
   "execution_count": null,
   "outputs": [],
   "source": [
    "\"\"\"\n",
    "\n",
    "Results down below.\n",
    "\n",
    "Worfklow: \n",
    "    1.) Set 'disturbed_body_hn' and 'maximal_hn'\n",
    "    2.) 'find_all_disturbers'\n",
    "    3.) =>  'left_hand_sides' == 'right_hand_sides' and solve\n",
    "    4.) 'traverse_tree_and_replace_indices'\n",
    "\"\"\"\n",
    "ALL = ['latex_this', 'find_all_disturbers', 'left_hand_sides', 'right_hand_sides', 'traverse_tree_and_replace_indices']"
   ],
   "metadata": {
    "collapsed": false
   },
   "id": "fda0aad7422e4d05"
  },
  {
   "cell_type": "code",
   "execution_count": null,
   "outputs": [],
   "source": [
    "# -------- F U N C T I O N S    R E P R E S E N T I N G    C O N S T A N T S -------- #\n",
    "def kappa(i: int, j:int) -> sym.core.symbol.Symbol:\n",
    "    \"\"\"\n",
    "    Function representing the κ_{ij} constant. \n",
    "    \n",
    "    :param i:         The hierarchy number of the tidal disturber.\n",
    "    :param j:         The hierarchy number of the disturbed body.      \n",
    "    \n",
    "    :return: expr         \n",
    "    \"\"\"\n",
    "    g = sym.symbols(\"G\")\n",
    "    m_alpha = sym.symbols('m_{' + str(i) + '}')\n",
    "    k_beta = sym.symbols('k_{L' + str(j)+ '}')\n",
    "    r_beta = sym.symbols('R_{' + str(j)+ '}')\n",
    "    \n",
    "    return g * m_alpha**2 * k_beta * r_beta**5\n",
    "\n",
    "def dirac(alpha: int, beta: int) -> int:\n",
    "    \"\"\"\n",
    "    Represents a kronecker-delta. Returns zero if alpha is not equal to beta and one otherwise.\n",
    "    \n",
    "    :param alpha:         \n",
    "    :param beta:               \n",
    "    \n",
    "    :return:          \n",
    "    \"\"\"\n",
    "    num = None\n",
    "    if alpha == beta:\n",
    "        num = 1\n",
    "    elif alpha != beta:\n",
    "        num = 0\n",
    "    else: \n",
    "        print(\"Something went wrong, inside 'dirac' function call.\")\n",
    "    return num\n",
    "    \n",
    "def lamda(i: int, j:int, k:int) -> tuple:\n",
    "    \"\"\"\n",
    "    Function representing the λ_{ijk} constant. Returns a tuple, where the first element represents the constant for the spin frequency derivative\n",
    "    and the second element for the orbit frequency derivative.\n",
    "    \n",
    "    :param i:         The hierarchy number of the tidal disturber.\n",
    "    :param j:         The hierarchy number of the disturbed body.\n",
    "    :param k:         The hierarchy number of that tidal disturber, the derivative is currently taken with respect to on the left hand side of the ELE.      \n",
    "    \n",
    "    :return: expr         \n",
    "    \"\"\"\n",
    "    signum = sym.Symbol(r'\\mathrm{sgn}('+ r'\\Omega_' +str(j) + '-n_{' + str(i) + '-' + str(j) + ')')\n",
    "    quality_factor = sym.Symbol(f'Q_{j}')\n",
    "    const_spin = 1\n",
    "    const_orbit = - dirac(alpha=i, beta=k)\n",
    "    base_expr = -3/2 * kappa(i=i, j=j) * 1/quality_factor * signum\n",
    "    lamda_spin =  base_expr * const_spin\n",
    "    lamda_orbit = base_expr * const_orbit\n",
    "    return lamda_spin, lamda_orbit\n"
   ],
   "metadata": {
    "collapsed": false
   },
   "id": "b3b1f09f677dd921"
  },
  {
   "cell_type": "code",
   "execution_count": 21,
   "outputs": [],
   "source": [
    "# -------- M A T H E M A T I C A L    M A N I P U L A T E R S -------- #\n",
    "\n",
    "def find_all_disturbers(disturbed_body: int, size_of_system: int) -> list:\n",
    "    \"\"\"\n",
    "    Based on the hierarchy number of the disturbed body, this returns a list of all hierarchy numbers associated with the disturbers of that body.\n",
    "    These are basically just the \"left\" and \"right\" neighbours of a given body. Returns e.g. [1,3] for inputs (2,3) or [None, 2] for (1,3). \n",
    "    \n",
    "    :param disturbed_body:          The hierarchy number of the disturbed body.\n",
    "    :param size_of_system:          The biggest hierarchy number of the system, characterizes its size.      \n",
    "    \n",
    "    :return: all_disturbers         A list of all hierarchy numbers that correspond to bodies disturbing 'disturbed_body'.\n",
    "    \"\"\"\n",
    "    all_disturbers = []\n",
    "    left_disturber = None\n",
    "    right_disturber = None\n",
    "    left_boundary = 1\n",
    "    right_boundary = size_of_system\n",
    "    \n",
    "    left_neighbour = disturbed_body - 1\n",
    "    if left_neighbour >= left_boundary:\n",
    "        left_disturber = left_neighbour\n",
    "    \n",
    "    right_neighbour = disturbed_body + 1\n",
    "    if right_neighbour <= right_boundary:\n",
    "        right_disturber = right_neighbour\n",
    "    \n",
    "    all_disturbers.append(left_disturber)\n",
    "    all_disturbers.append(right_disturber)\n",
    "    return all_disturbers\n",
    "\n",
    "def left_hand_sides(disturbed_body: int, disturber:int , print_debug: bool) -> tuple:\n",
    "    \"\"\"\n",
    "    Returns a tuple containing sympy expressions representing the left hand sides of the Euler-Lagrange-Equations.\n",
    "    The first element of the tuple is the LHS for the spin-frequency-equation and the second for the orbit-frequency-equation.  \n",
    "    \n",
    "    :param disturbed_body:          The hierarchy number of the disturbed body.\n",
    "    :param disturber:               The hierarchy number of the disturber body. Determines constants on the lhs of the orbit-frequency-equation.   \n",
    "    :param print_debug:             Prints the latex representation of the left and right hand sides. \n",
    "    \n",
    "    :return: lhs_spin, lhs_orbit    The LHS of the ELE packaged as a tuple for spin and orbit coordinates.\n",
    "    \"\"\"\n",
    "    \n",
    "    t = sym.symbols('t')\n",
    "    omega_j = sym.Function(r'\\Omega_{' + f'{disturbed_body}' + '}')(t)\n",
    "    inertia_j = sym.symbols('I_{' + f'{disturbed_body}'+ '}')\n",
    "    \n",
    "    lhs_spin = inertia_j * omega_j.diff(t)\n",
    "    \n",
    "    disturber_mass = sym.symbols('m_{' + f'{disturber}'+ '}')\n",
    "    disturbed_mass = sym.symbols('m_{' + f'{disturbed_body}'+ '}')\n",
    "    mu = sym.symbols(r'\\mu_{' + f'{disturber}' + '-' + f'{disturbed_body}' + '}')\n",
    "    sm_axis = sym.Function('a_{' + f'{disturber}' + '-' + f'{disturbed_body}' + '}')(t)\n",
    "    \n",
    "    lhs_orbit = 1 / 2 * disturber_mass * disturbed_mass / (disturber_mass + disturbed_mass) * mu**(sym.Rational(1,2)) * sm_axis**(sym.Rational(-1,2))*sm_axis.diff(t)\n",
    "    \n",
    "    if print_debug:\n",
    "        print(\"Debug statement of the function 'left_hand_sides'. Parameters:\")\n",
    "        print({'disturbed_body': disturbed_body, 'disturber': disturber, 'print_debug': print_debug})\n",
    "        print(\"View the documentation for a description of the parameters.\")\n",
    "        print(\"Left hand side of ELE, spin equation:\")\n",
    "        latex_this(lhs_spin)\n",
    "        print(\"Left hand side of ELE, orbit equation:\")\n",
    "        latex_this(lhs_orbit)\n",
    "    \n",
    "    return lhs_spin, lhs_orbit\n",
    "\n",
    "def right_hand_side(disturbed_body: int, actual_disturber:int, all_disturbers: list , print_debug: bool) -> tuple:\n",
    "    \"\"\"\n",
    "    Returns a tuple containing sympy expressions representing the right hand side of the Euler-Lagrange-Equations for the spin frequency \n",
    "    and orbit frequency coordinate, respectively the first and second element of the tuple..\n",
    "    \n",
    "    :param disturbed_body:          The hierarchy number of the disturbed body.\n",
    "    :param actual_disturber:        The hierarchy number of the actual disturber. Determines which summand to collapse in the lamda constant.   \n",
    "                                    Has to be the same input as 'disturber' argument in the function 'left_hand_sides'.\n",
    "    :param all_disturbers:          A list containing the hierarchy number of all disturbers of 'disturbed_body'.    \n",
    "    :param print_debug:             Prints the latex representation of the right hand side.\n",
    "    \n",
    "    :return: rhs                    A tuple containing the right hand sides of the ELE for spin and orbit coordinate.\n",
    "    \"\"\"\n",
    "    \n",
    "    t = sym.symbols(\"t\")\n",
    "    # this represents the sum over all {i}.\n",
    "    helper_list_spin = []\n",
    "    helper_list_orbit = []\n",
    "    for possible_disturber in all_disturbers:\n",
    "        sm_axis = sym.Function('a_{' + f'{possible_disturber}' + '-' + f'{disturbed_body}' + '}')(t)\n",
    "        constant_1_spin, constant_1_orbit = lamda(i=possible_disturber,j=disturbed_body,k=actual_disturber)\n",
    "        constant_2_spin, constant_2_orbit = lamda(i=disturbed_body,j=possible_disturber,k=actual_disturber)\n",
    "        expr_spin = ( constant_1_spin + constant_2_spin ) * 1/sm_axis**6\n",
    "        expr_orbit = ( constant_1_orbit + constant_2_orbit ) * 1/sm_axis**6\n",
    "        helper_list_spin.append(expr_spin)\n",
    "        helper_list_orbit.append(expr_orbit)\n",
    "        \n",
    "\n",
    "    \n",
    "    rhs_spin = sym.Add(*helper_list_spin)\n",
    "    rhs_orbit = sym.Add(*helper_list_orbit)\n",
    "    \n",
    "    # Finally replace 'G', the gravitational constant in the orbit frequency case with mu_{i-j} / (m_i + m_j)\n",
    "    mu = sym.symbols(r'\\mu_{' + f'{actual_disturber}' + '-' + f'{disturbed_body}' + '}')\n",
    "    disturber_mass = sym.symbols('m_{' + f'{actual_disturber}'+ '}')\n",
    "    disturbed_mass = sym.symbols('m_{' + f'{disturbed_body}'+ '}')\n",
    "    # find the instance of 'G in 'rhs_orbit'\n",
    "    instance_of_g = next((symbol for symbol in rhs_orbit.free_symbols if symbol.name == 'g'), 'No more elements')\n",
    "    rhs_orbit = rhs_orbit.subs(instance_of_g, mu / (disturber_mass+disturbed_mass))\n",
    "    \n",
    "    if print_debug:\n",
    "        print(\"Debug statement of the function 'left_hand_sides'. Parameters:\")\n",
    "        print({'disturbed_body': disturbed_body, 'actual_disturber': actual_disturber, 'all_disturbers':all_disturbers,'print_debug': print_debug})\n",
    "        print(\"View the documentation for a description of the parameters.\")\n",
    "        print(\"Right hand side of ELE Spin Frequency:\")\n",
    "        latex_this(rhs_spin)\n",
    "        print(\"Right hand side of ELE Orbit Frequency:\")\n",
    "        latex_this(rhs_orbit)\n",
    "        \n",
    "\n",
    "    \n",
    "    return rhs_spin, rhs_orbit\n"
   ],
   "metadata": {
    "collapsed": false,
    "ExecuteTime": {
     "end_time": "2023-12-31T00:04:49.635257Z",
     "start_time": "2023-12-31T00:04:49.629312Z"
    }
   },
   "id": "af9d193ee01e84b8"
  },
  {
   "cell_type": "code",
   "execution_count": null,
   "outputs": [],
   "source": [
    "\n",
    "# -------- S T Y L I S T I C    M A N I P U L A T E R S -------- #\n",
    "def traverse_tree_and_replace_indices(expr: sym.core.symbol.Symbol) -> None:\n",
    "    \n",
    "    \"\"\"\n",
    "    Uses recursive tree traversing to find all numerical indices in a sympy expression and replace them with their corresponding \n",
    "    latex letter index abbreviation.\n",
    "    \n",
    "    :param expr:          The expression to recursively traverse.\n",
    "    \n",
    "    :return: None\n",
    "    \"\"\"\n",
    "    \n",
    "    replacement_indices = [r'\\mathrm{s}',r'\\mathrm{p}',r'\\mathrm{m}',r'\\mathrm{sm}',r'\\mathrm{ssm}',r'\\mathrm{sssm}']\n",
    "    for node in expr.args:\n",
    "        if node.is_Symbol:\n",
    "            # Building block => Extract index\n",
    "            base_symbol, numerical_indices  = node.name.split(\"_\")\n",
    "            list_of_digits_in_numerical_indices = [char for char in numerical_indices if char.isdigit()]\n",
    "            number_of_indices = len(list_of_digits_in_numerical_indices)\n",
    "            \n",
    "            if number_of_indices == 1:\n",
    "                # There exists only one simple index => Rename\n",
    "                numerical_index = int(numerical_indices)\n",
    "                node.name = base_symbol + \"_\" + replacement_indices[int(numerical_index)-1]\n",
    "            elif number_of_indices == 2:\n",
    "                # There exists more than one index! The base_symbol_{i-j} convention was followed.\n",
    "                string_index_1 = list_of_digits_in_numerical_indices[0]\n",
    "                string_index_2 = list_of_digits_in_numerical_indices[1]\n",
    "                translation_1 = replacement_indices[int(string_index_1)-1]\n",
    "                translation_2 = replacement_indices[int(string_index_2)-1]\n",
    "                # => Rename\n",
    "                node.name = base_symbol + '_{' + translation_1 + '-' + translation_2 + '}'\n",
    "            else:\n",
    "                print(\"Something went wrong inside 'traverse_tree_and_replace_indices' function call.\")\n",
    "        else:\n",
    "            traverse_tree_and_replace_indices(node)\n",
    "            \n",
    "            \n",
    "def latex_this(expression: sym.core.symbol.Symbol) -> None:\n",
    "    \"\"\"\n",
    "    Takes a sympy expression, extracts the latex representation and parses it through Math, such that IPython can display it.\n",
    "    \n",
    "    :param expression: The sympy expression to evaluate.\n",
    "    \n",
    "    :return: None\n",
    "    \"\"\"\n",
    "    display(Math(sym.latex(expression)))\n",
    "    "
   ],
   "metadata": {
    "collapsed": false
   },
   "id": "b2dae3a54f3dc80"
  },
  {
   "cell_type": "code",
   "execution_count": null,
   "outputs": [],
   "source": [
    "\"\"\"\n",
    "Worfklow: \n",
    "    1.) Set 'disturbed_body_hn' and 'maximal_hn'\n",
    "    2.) 'find_all_disturbers'\n",
    "    3.) =>  'left_hand_sides' == 'right_hand_sides' and solve\n",
    "    4.) 'traverse_tree_and_replace_indices'\n",
    "\"\"\""
   ],
   "metadata": {
    "collapsed": false
   },
   "id": "85065e62d6a86a24"
  },
  {
   "cell_type": "code",
   "execution_count": 22,
   "outputs": [
    {
     "name": "stdout",
     "output_type": "stream",
     "text": [
      "Debug statement of the function 'left_hand_sides'. Parameters:\n",
      "{'disturbed_body': 2, 'actual_disturber': 1, 'all_disturbers': [1, 3], 'print_debug': True}\n",
      "View the documentation for a description of the parameters.\n",
      "Right hand side of ELE Spin Frequency:\n"
     ]
    },
    {
     "data": {
      "text/plain": "<IPython.core.display.Math object>",
      "text/latex": "$\\displaystyle \\frac{- \\frac{1.5 G R_{2}^{5} \\mathrm{sgn}(\\Omega_2-n_{1-2) k_{L2} m_{1}^{2}}{Q_{2}} - \\frac{1.5 G R_{1}^{5} \\mathrm{sgn}(\\Omega_1-n_{2-1) k_{L1} m_{2}^{2}}{Q_{1}}}{a_{1-2}^{6}{\\left(t \\right)}} + \\frac{- \\frac{1.5 G R_{3}^{5} \\mathrm{sgn}(\\Omega_3-n_{2-3) k_{L3} m_{2}^{2}}{Q_{3}} - \\frac{1.5 G R_{2}^{5} \\mathrm{sgn}(\\Omega_2-n_{3-2) k_{L2} m_{3}^{2}}{Q_{2}}}{a_{3-2}^{6}{\\left(t \\right)}}$"
     },
     "metadata": {},
     "output_type": "display_data"
    },
    {
     "name": "stdout",
     "output_type": "stream",
     "text": [
      "Right hand side of ELE Orbit Frequency:\n"
     ]
    },
    {
     "data": {
      "text/plain": "<IPython.core.display.Math object>",
      "text/latex": "$\\displaystyle \\frac{1.5 G R_{2}^{5} \\mathrm{sgn}(\\Omega_2-n_{1-2) k_{L2} m_{1}^{2}}{Q_{2} a_{1-2}^{6}{\\left(t \\right)}}$"
     },
     "metadata": {},
     "output_type": "display_data"
    },
    {
     "name": "stdout",
     "output_type": "stream",
     "text": [
      "Debug statement of the function 'left_hand_sides'. Parameters:\n",
      "{'disturbed_body': 2, 'actual_disturber': 3, 'all_disturbers': [1, 3], 'print_debug': True}\n",
      "View the documentation for a description of the parameters.\n",
      "Right hand side of ELE Spin Frequency:\n"
     ]
    },
    {
     "data": {
      "text/plain": "<IPython.core.display.Math object>",
      "text/latex": "$\\displaystyle \\frac{- \\frac{1.5 G R_{2}^{5} \\mathrm{sgn}(\\Omega_2-n_{1-2) k_{L2} m_{1}^{2}}{Q_{2}} - \\frac{1.5 G R_{1}^{5} \\mathrm{sgn}(\\Omega_1-n_{2-1) k_{L1} m_{2}^{2}}{Q_{1}}}{a_{1-2}^{6}{\\left(t \\right)}} + \\frac{- \\frac{1.5 G R_{3}^{5} \\mathrm{sgn}(\\Omega_3-n_{2-3) k_{L3} m_{2}^{2}}{Q_{3}} - \\frac{1.5 G R_{2}^{5} \\mathrm{sgn}(\\Omega_2-n_{3-2) k_{L2} m_{3}^{2}}{Q_{2}}}{a_{3-2}^{6}{\\left(t \\right)}}$"
     },
     "metadata": {},
     "output_type": "display_data"
    },
    {
     "name": "stdout",
     "output_type": "stream",
     "text": [
      "Right hand side of ELE Orbit Frequency:\n"
     ]
    },
    {
     "data": {
      "text/plain": "<IPython.core.display.Math object>",
      "text/latex": "$\\displaystyle \\frac{1.5 G R_{2}^{5} \\mathrm{sgn}(\\Omega_2-n_{3-2) k_{L2} m_{3}^{2}}{Q_{2} a_{3-2}^{6}{\\left(t \\right)}}$"
     },
     "metadata": {},
     "output_type": "display_data"
    }
   ],
   "source": [
    "disturbed_body_hn = 2 # The hierarchy number of the disturbed body.\n",
    "maximal_hn = 3 # The biggest hierarchy number, characterizes the size of the system\n",
    "\n",
    "all_disturbers_hn = find_all_disturbers(disturbed_body = disturbed_body_hn, size_of_system = maximal_hn)\n",
    "for k in all_disturbers_hn:\n",
    "    lhs_spin_instance, lhs_orbit_instance = left_hand_sides(disturbed_body = disturbed_body_hn, disturber=k, print_debug=False)\n",
    "    rhs_spin_instance, rhs_orbit_instance = right_hand_side(disturbed_body =disturbed_body_hn, actual_disturber=k, \n",
    "                                                            all_disturbers=all_disturbers_hn, print_debug=False)\n",
    "    print(display(Math(sym.latex(rhs_spin_instance))))\n",
    "    "
   ],
   "metadata": {
    "collapsed": false,
    "ExecuteTime": {
     "end_time": "2023-12-31T00:04:51.693946Z",
     "start_time": "2023-12-31T00:04:51.673283Z"
    }
   },
   "id": "f847b5d793bc6f11"
  },
  {
   "cell_type": "code",
   "execution_count": null,
   "outputs": [],
   "source": [
    " "
   ],
   "metadata": {
    "collapsed": false
   },
   "id": "56c63ebce6829d49"
  }
 ],
 "metadata": {
  "kernelspec": {
   "display_name": "Python 3",
   "language": "python",
   "name": "python3"
  },
  "language_info": {
   "codemirror_mode": {
    "name": "ipython",
    "version": 2
   },
   "file_extension": ".py",
   "mimetype": "text/x-python",
   "name": "python",
   "nbconvert_exporter": "python",
   "pygments_lexer": "ipython2",
   "version": "2.7.6"
  }
 },
 "nbformat": 4,
 "nbformat_minor": 5
}
